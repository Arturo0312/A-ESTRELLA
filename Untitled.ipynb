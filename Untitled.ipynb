{
 "cells": [
  {
   "cell_type": "markdown",
   "id": "e1da8858",
   "metadata": {},
   "source": [
    "# Heurística\n",
    "\n",
    "Esta función toma como entrada la lista de paths hijos, el mapa y la id de la estación destino y un número que hace referencia al criterio que intenta estimar la heurística (paradas, tiempo, distancia, trasbordos). Calcula la heurística entre la ultima parada que estamos explorando de cada camino (path) hijo y la estación final. Una vez calculada, actualiza el valor de heurística de cada Path Hijo.\n"
   ]
  },
  {
   "cell_type": "code",
   "execution_count": 4,
   "id": "1ade007e",
   "metadata": {},
   "outputs": [],
   "source": [
    "def calculate_heuristics(expand_paths, map, destination_id, type_preference=0):\n",
    "        \n",
    "    for path in expand_paths:\n",
    "        if(path.last == destination_id):\n",
    "            path.update_h(0)\n",
    "        else:\n",
    "            if(type_preference == 0):\n",
    "                path.update_h(1)\n",
    "            \n",
    "            else:                    \n",
    "                if(type_preference==1): \n",
    "                    dist = euclidean_dist([map.stations[path.last]['x'], map.stations[path.last]['y']], [map.stations[destination_id]['x'], map.stations[destination_id]['y']] )\n",
    "                    h = dist / 45 \n",
    "                    path.update_h(h)\n",
    "                     \n",
    "                else:   \n",
    "                    if(type_preference==2):\n",
    "                        if(map.stations[destination_id]['name'] != map.stations[path.last]['name']): \n",
    "                            h = euclidean_dist([map.stations[path.last]['x'], map.stations[path.last]['y']], [map.stations[destination_id]['x'], map.stations[destination_id]['y']] )\n",
    "                            path.update_h(h)\n",
    "                            \n",
    "                    else:\n",
    "                        if(type_preference==3): \n",
    "                            linia_dest = map.stations[destination_id]['line']\n",
    "                            linia_ul = map.stations[path.last]['line']\n",
    "                        if(linia_dest != linia_ul):\n",
    "                            path.update_h(1)\n",
    "                                                     \n",
    "    return expand_paths\n",
    "\n",
    "def euclidean_dist(x, y):\n",
    "    x1, y1 = x\n",
    "    x2, y2 = y\n",
    "    return math.sqrt((x1-x2)**2 + (y1-y2)**2)"
   ]
  },
  {
   "cell_type": "markdown",
   "id": "395865ad",
   "metadata": {},
   "source": [
    "# Función para eliminar caminos redundantes (no óptimos)\n",
    "\n",
    "La función recibe como input la lista de caminos hijos que acabamos de expandir y la lista global de caminos (paths) del árbol explorado y el diccionario de costes parciales. La función comprobará si uno de los caminos hijos ha llegado a un nodo que ya se había explorado antes y que se guarda su coste en el diccionario, en caso afirmativo comprobará si el nuevo coste es mejor o peor que el anterior."
   ]
  },
  {
   "cell_type": "code",
   "execution_count": 6,
   "id": "13c3e7a7",
   "metadata": {},
   "outputs": [],
   "source": [
    " def remove_redundant_paths(expand_paths, list_of_path, visited_stations_cost):\n",
    "    for path in expand_paths:\n",
    "            if(path.last in visited_stations_cost):\n",
    "                if(visited_stations_cost[path.last] == path.g):\n",
    "                    expand_paths.remove(path)\n",
    "                else:\n",
    "                    visited_stations_cost[path.last] = path.g\n",
    "                    st = path.last\n",
    "                    for p in list_of_path:\n",
    "                        if(st in p.route):\n",
    "                            list_of_path.remove(p)\n",
    "            else:\n",
    "                visited_stations_cost[path.last] = path.g\n",
    "                    \n",
    "    return expand_paths, list_of_path, visited_stations_cost\n",
    "\n",
    " def update_f(self):\n",
    "    self.f = self.g + self.h"
   ]
  },
  {
   "cell_type": "code",
   "execution_count": 7,
   "id": "09c4548e",
   "metadata": {},
   "outputs": [],
   "source": [
    " def insert_cost_f(expand_paths, list_of_path):\n",
    "    \n",
    "   \n",
    "    if list_of_path == []:\n",
    "        return expand_paths\n",
    "    else:\n",
    "        if expand_paths == []:\n",
    "            return list_of_path\n",
    "        else:\n",
    "            list_of_path = expand_paths + list_of_path \n",
    "            list_of_path = sorted(list_of_path, key=lambda Path:Path.f)\n",
    "            return list_of_path"
   ]
  },
  {
   "cell_type": "code",
   "execution_count": 8,
   "id": "473b2178",
   "metadata": {},
   "outputs": [],
   "source": [
    "def coord2station(coord, map):\n",
    "    \n",
    "    distancias = []\n",
    "    distanciasmin = []\n",
    "    \n",
    "    for i in range(0, len(map.stations), 1):\n",
    "        dist = euclidean_dist(coord, [map.stations[i+1]['x'], map.stations[i+1]['y']])\n",
    "        distancias.append(dist)\n",
    "        \n",
    "    dminima = min(distancias)\n",
    "    for i, x in enumerate(distancias):\n",
    "        if(x == dminima):\n",
    "            distanciasmin.append(i+1)\n",
    "        \n",
    "    return distanciasmin"
   ]
  },
  {
   "cell_type": "markdown",
   "id": "c453acbc",
   "metadata": {},
   "source": [
    "# Algoritmo A-Star en Python\n",
    "\n",
    "La función que implementa este algoritmo recibe las coordenadas de una posición de origen, de una posición de destino, el mapa del metro de una ciudad y el tipo de criterio que queremos optimizar representado por un número (type_preference) y busca el camino óptimo entre los dos puntos utilizando la búsqueda A*.\n",
    "\n"
   ]
  },
  {
   "cell_type": "code",
   "execution_count": 9,
   "id": "cef6724e",
   "metadata": {},
   "outputs": [],
   "source": [
    "def Astar(origin_coor, dest_coor, map, type_preference=0):\n",
    "    \n",
    "    origen=coord2station(origin_coor, map)\n",
    "    destino=coord2station(dest_coor, map)\n",
    "    idorigen=origen[0]\n",
    "    iddestino=destino[0]\n",
    "    lista = [Path(idorigen)]\n",
    "    TCP = {}\n",
    "    \n",
    "    while(lista != None and lista[0].last != iddestino):\n",
    "        C=lista[0]\n",
    "        lista.pop(0) \n",
    "        E = expand(C,map)\n",
    "        E = remove_cycles(E)\n",
    "        E = calculate_cost(E, map,type_preference)\n",
    "        E=calculate_heuristics(E,map,type_preference)\n",
    "        E=update_f(E)\n",
    "        ##E=update_f1(E)\n",
    "        E, lista, TCP = remove_redundant_paths(E,lista,TCP)\n",
    "        lista = insert_cost_f(lista, E)        \n",
    "    if (lista != None):\n",
    "        return lista[0]\n",
    "    else:\n",
    "        print(\"No existe solucion\")  \n",
    "    \n",
    "    pass"
   ]
  },
  {
   "cell_type": "code",
   "execution_count": null,
   "id": "11c632e2",
   "metadata": {},
   "outputs": [],
   "source": []
  }
 ],
 "metadata": {
  "kernelspec": {
   "display_name": "Python 3 (ipykernel)",
   "language": "python",
   "name": "python3"
  },
  "language_info": {
   "codemirror_mode": {
    "name": "ipython",
    "version": 3
   },
   "file_extension": ".py",
   "mimetype": "text/x-python",
   "name": "python",
   "nbconvert_exporter": "python",
   "pygments_lexer": "ipython3",
   "version": "3.9.7"
  }
 },
 "nbformat": 4,
 "nbformat_minor": 5
}
